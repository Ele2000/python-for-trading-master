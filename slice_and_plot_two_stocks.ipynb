{
  "nbformat": 4,
  "nbformat_minor": 0,
  "metadata": {
    "colab": {
      "name": "slice_and_plot_two_stocks",
      "provenance": [],
      "authorship_tag": "ABX9TyNnwRrNAiXhmsSh24+nrYaC",
      "include_colab_link": true
    },
    "kernelspec": {
      "name": "python3",
      "display_name": "Python 3"
    },
    "language_info": {
      "name": "python"
    }
  },
  "cells": [
    {
      "cell_type": "markdown",
      "metadata": {
        "id": "view-in-github",
        "colab_type": "text"
      },
      "source": [
        "<a href=\"https://colab.research.google.com/github/Ele2000/python-for-trading-master/blob/main/slice_and_plot_two_stocks.ipynb\" target=\"_parent\"><img src=\"https://colab.research.google.com/assets/colab-badge.svg\" alt=\"Open In Colab\"/></a>"
      ]
    },
    {
      "cell_type": "code",
      "execution_count": null,
      "metadata": {
        "id": "I-baw6lWXqFQ"
      },
      "outputs": [],
      "source": [
        "\"\"\"Slice and plot\"\"\"\n",
        "\n",
        "import os\n",
        "import pandas as pd\n",
        "import matplotlib.pyplot as plt\n",
        "\n",
        "\n",
        "def plot_selected(df, columns, start_index, end_index):\n",
        "    \"\"\"Plot the desired columns over index values in the given range.\"\"\"\n",
        "\n",
        "    plot_data(df.loc[start_index:end_index],title='Selected data')\n",
        "\n",
        "\n",
        "\n",
        "def symbol_to_path(symbol, base_dir='data'):\n",
        "    \"\"\"Return CSV file path given ticker symbol.\"\"\"\n",
        "    return os.path.join(base_dir, f'{str(symbol)}.csv')\n",
        "\n",
        "\n",
        "def get_data(symbols, dates):\n",
        "    \"\"\"Read stock data (adjusted close) for given symbols from CSV files.\"\"\"\n",
        "    df = pd.DataFrame(index=dates)\n",
        "    if 'SPY' not in symbols: # add SPY for reference, if absent\n",
        "        symbols.insert(0, 'SPY')\n",
        "\n",
        "    for symbol in symbols:\n",
        "        df_temp = pd.read_csv(symbol_to_path(symbol),\n",
        "        index_col='Date',\n",
        "                parse_dates=True, usecols=['Date', 'Adj Close'],\n",
        "                na_values=['nan'])\n",
        "        df_temp = df_temp.rename(columns={'Adj Close': symbol})\n",
        "        df = df.join(df_temp)\n",
        "        if symbol == 'SPY': # drop dates SPY did not trade\n",
        "            df = df.dropna(subset=['SPY'])\n",
        "\n",
        "    return df\n",
        "\n",
        "\n",
        "def plot_data(df, title='Stock prices'):\n",
        "    \"\"\"Plot stock prices with a custum title and meaningful axis labels.\"\"\"\n",
        "    ax = df.plot(title=title, fontsize=12)\n",
        "    ax.set_xlabel('Date')\n",
        "    ax.set_ylabel('Price')\n",
        "    plt.savefig('graphs/slice_and_plot_two_stocks.png')\n",
        "\n",
        "\n",
        "def main():\n",
        "    # Define a date range\n",
        "    dates = pd.date_range('2020-01-01', '2020-12-31')\n",
        "\n",
        "    # Choose stock symbols to read\n",
        "    symbols = ['AAPL', 'FB', 'GLD', 'IBM', 'KO'] # SPY will be added in get_data()\n",
        "\n",
        "    # Get stock data\n",
        "    df = get_data(symbols, dates)\n",
        "\n",
        "    # Slice and plot\n",
        "    plot_selected(df, ['SPY', 'IBM'], '2020-03-01', '2020-04-01')\n",
        "\n",
        "if __name__==\"__main__\":\n",
        "    main()"
      ]
    }
  ]
}