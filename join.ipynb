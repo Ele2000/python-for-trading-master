{
  "nbformat": 4,
  "nbformat_minor": 0,
  "metadata": {
    "colab": {
      "name": "join",
      "provenance": [],
      "authorship_tag": "ABX9TyOTGTuYY3Kv1zfG3Yiknuiv",
      "include_colab_link": true
    },
    "kernelspec": {
      "name": "python3",
      "display_name": "Python 3"
    },
    "language_info": {
      "name": "python"
    }
  },
  "cells": [
    {
      "cell_type": "markdown",
      "metadata": {
        "id": "view-in-github",
        "colab_type": "text"
      },
      "source": [
        "<a href=\"https://colab.research.google.com/github/Ele2000/python-for-trading-master/blob/main/join.ipynb\" target=\"_parent\"><img src=\"https://colab.research.google.com/assets/colab-badge.svg\" alt=\"Open In Colab\"/></a>"
      ]
    },
    {
      "cell_type": "code",
      "execution_count": null,
      "metadata": {
        "id": "3qWVGbeuWYHn"
      },
      "outputs": [],
      "source": [
        "join"
      ]
    },
    {
      "cell_type": "code",
      "source": [
        "import pandas as pd\n",
        "\n",
        "\n",
        "def main():\n",
        "    start_date = '2021-01-22'\n",
        "    end_date = '2021-01-26'\n",
        "    dates = pd.date_range(start_date, end_date)\n",
        "    df1 = pd.DataFrame(index=dates)\n",
        "    dfSPY = pd.read_csv('data/SPY.csv', index_col='Date',\n",
        "                         parse_dates=True,\n",
        "                         usecols=['Date','Adj Close'],\n",
        "                         na_values=['nan'])\n",
        "    df1 = df1.join(dfSPY).dropna()\n",
        "    print(df1)\n",
        "\n",
        "if __name__==\"__main__\":\n",
        "    main()"
      ],
      "metadata": {
        "id": "JEZQ05lXWxHd"
      },
      "execution_count": null,
      "outputs": []
    },
    {
      "cell_type": "markdown",
      "source": [
        ""
      ],
      "metadata": {
        "id": "TUQZT7UnWyUu"
      }
    }
  ]
}