{
  "nbformat": 4,
  "nbformat_minor": 0,
  "metadata": {
    "colab": {
      "name": "ploting_multyple_stocks",
      "provenance": [],
      "authorship_tag": "ABX9TyPlDYtkEkVQVEWVM6oqTnSQ",
      "include_colab_link": true
    },
    "kernelspec": {
      "name": "python3",
      "display_name": "Python 3"
    },
    "language_info": {
      "name": "python"
    }
  },
  "cells": [
    {
      "cell_type": "markdown",
      "metadata": {
        "id": "view-in-github",
        "colab_type": "text"
      },
      "source": [
        "<a href=\"https://colab.research.google.com/github/Ele2000/python-for-trading-master/blob/main/ploting_multyple_stocks.ipynb\" target=\"_parent\"><img src=\"https://colab.research.google.com/assets/colab-badge.svg\" alt=\"Open In Colab\"/></a>"
      ]
    },
    {
      "cell_type": "code",
      "execution_count": null,
      "metadata": {
        "id": "H0pSnYbFXSZ5"
      },
      "outputs": [],
      "source": [
        "import os\n",
        "import pandas as pd\n",
        "import matplotlib.pyplot as plt\n",
        "\n",
        "def symbol_to_path(symbol, base_dir='data'):\n",
        "    \"\"\"Return CSV file path to given ticker symbol.\"\"\"\n",
        "    return os.path.join(base_dir, f'{symbol}.csv')\n",
        "\n",
        "def get_data(symbols, dates):\n",
        "    \"\"\"Read stock data (Adj Close) for given symbols from CSV files.\"\"\"\n",
        "    df = pd.DataFrame(index=dates)\n",
        "    if 'SPY' not in symbols:\n",
        "        symbols.insert(0, 'SPY')\n",
        "\n",
        "    for symbol in symbols:\n",
        "        df_temp = pd.read_csv(\n",
        "            symbol_to_path(symbol),\n",
        "            index_col='Date',\n",
        "            parse_dates=True,\n",
        "            usecols=['Date', 'Adj Close'],\n",
        "            na_values=['nan'],\n",
        "        )\n",
        "        df_temp = df_temp.rename(columns={'Adj Close': symbol})\n",
        "        df = df.join(df_temp)\n",
        "        df = df.dropna()\n",
        "\n",
        "    return df\n",
        "\n",
        "def plot_data(df, title='Stock Prices'):\n",
        "    \"\"\"Plot stock prices\"\"\"\n",
        "    ax = df.plot(title=title, fontsize=10)\n",
        "    ax.set_xlabel('Date')\n",
        "    ax.set_ylabel('Price')\n",
        "    plt.savefig('graphs/ploting_multypel_stocks.png')\n",
        "\n",
        "def main():\n",
        "    dates = pd.date_range('2020-01-01', '2020-12-31')\n",
        "    symbols = ['AAPL', 'FB', 'GLD', 'IBM', 'KO']\n",
        "    df = get_data(symbols, dates)\n",
        "    plot_data(df)\n",
        "\n",
        "if __name__==\"__main__\":\n",
        "    main()"
      ]
    }
  ]
}